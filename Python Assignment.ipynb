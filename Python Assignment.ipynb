{
 "cells": [
  {
   "cell_type": "markdown",
   "id": "bb926bb5",
   "metadata": {},
   "source": [
    "11. Write a python program to find the factorial of a number."
   ]
  },
  {
   "cell_type": "code",
   "execution_count": null,
   "id": "0bd5b9bc",
   "metadata": {},
   "outputs": [],
   "source": [
    "num = int(input(\"Enter a number: \"))\n",
    "\n",
    "factorial = 1\n",
    "for i in range(1, num + 1):\n",
    "    factorial *= i\n",
    "\n",
    "print(f\"The factorial of {num} is {factorial}\")"
   ]
  },
  {
   "cell_type": "markdown",
   "id": "7e7d8ae7",
   "metadata": {},
   "source": [
    "12. Write a python program to find whether a number is prime or composite."
   ]
  },
  {
   "cell_type": "code",
   "execution_count": null,
   "id": "aa29b53f",
   "metadata": {},
   "outputs": [],
   "source": [
    "number = int(input(\"Enter a number: \"))\n",
    "\n",
    "if number <= 1:\n",
    "    print(f\"{number} is neither prime nor composite.\")\n",
    "elif number <= 3:\n",
    "    print(f\"{number} is a prime number.\")\n",
    "elif number % 2 == 0 or number % 3 == 0:\n",
    "    print(f\"{number} is a not a prime number.\")\n",
    "else:\n",
    "    i = 5\n",
    "    while i * i <= number:\n",
    "        if number % i == 0 or number % (i + 2) == 0:\n",
    "            print(f\"{number} is not a prime number.\")\n",
    "            break\n",
    "        i += 6\n",
    "    else:\n",
    "        print(f\"{number} is a prime number.\")"
   ]
  },
  {
   "cell_type": "markdown",
   "id": "d7a7c2f3",
   "metadata": {},
   "source": [
    "13. Write a python program to check whether a given string is palindrome or not."
   ]
  },
  {
   "cell_type": "code",
   "execution_count": null,
   "id": "f2a5b0eb",
   "metadata": {},
   "outputs": [],
   "source": [
    "string = input(\"Enter a string: \")\n",
    "string = input_string.lower()  # Converts string to lowercase\n",
    "string = string.replace(\"\", \"\")  # Remove spaces from the string\n",
    "\n",
    "if string == string[::-1]:\n",
    "    print(f\"'{string}' is a palindrome\")\n",
    "else:\n",
    "    print(f\"'{string}' is not a palindrome\")"
   ]
  },
  {
   "cell_type": "markdown",
   "id": "86cca64c",
   "metadata": {},
   "source": [
    "14. Write a Python program to get the third side of right-angled triangle from two given sides."
   ]
  },
  {
   "cell_type": "code",
   "execution_count": null,
   "id": "fbff520d",
   "metadata": {},
   "outputs": [],
   "source": [
    "import math\n",
    "\n",
    "def calculate_hypotenuse(side1, side2):\n",
    "    return math.sqrt(side1 ** 2 + side2 ** 2)\n",
    "\n",
    "side1 = float(input(\"Enter the length of the first side: \"))\n",
    "side2 = float(input(\"Enter the length of the second side: \"))\n",
    "\n",
    "hypotenuse = calculate_hypotenuse(side1, side2)\n",
    "\n",
    "print(f\"The length of the hypotenuse (third side) is: {hypotenuse:.2f}\")\n"
   ]
  },
  {
   "cell_type": "markdown",
   "id": "29500822",
   "metadata": {},
   "source": [
    "15. Write a python program to print the frequency of each of the characters present in a given string."
   ]
  },
  {
   "cell_type": "code",
   "execution_count": null,
   "id": "61642731",
   "metadata": {},
   "outputs": [],
   "source": [
    "from collections import Counter\n",
    "\n",
    "input_string = input(\"Enter a string: \")\n",
    "\n",
    "# To count character frequencies\n",
    "char_frequency = Counter(input_string)\n",
    "\n",
    "for char, freq in char_frequency.items():\n",
    "    print(f\"'{char}' appears {freq} times\")"
   ]
  },
  {
   "cell_type": "code",
   "execution_count": null,
   "id": "582da630",
   "metadata": {},
   "outputs": [],
   "source": []
  },
  {
   "cell_type": "code",
   "execution_count": null,
   "id": "eb6f7e00",
   "metadata": {},
   "outputs": [],
   "source": []
  },
  {
   "cell_type": "code",
   "execution_count": null,
   "id": "6cedc7b3",
   "metadata": {},
   "outputs": [],
   "source": []
  },
  {
   "cell_type": "code",
   "execution_count": null,
   "id": "38de986d",
   "metadata": {},
   "outputs": [],
   "source": []
  },
  {
   "cell_type": "code",
   "execution_count": null,
   "id": "6e48018d",
   "metadata": {},
   "outputs": [],
   "source": []
  },
  {
   "cell_type": "code",
   "execution_count": null,
   "id": "08b743ca",
   "metadata": {},
   "outputs": [],
   "source": []
  }
 ],
 "metadata": {
  "kernelspec": {
   "display_name": "Python 3 (ipykernel)",
   "language": "python",
   "name": "python3"
  },
  "language_info": {
   "codemirror_mode": {
    "name": "ipython",
    "version": 3
   },
   "file_extension": ".py",
   "mimetype": "text/x-python",
   "name": "python",
   "nbconvert_exporter": "python",
   "pygments_lexer": "ipython3",
   "version": "3.9.13"
  }
 },
 "nbformat": 4,
 "nbformat_minor": 5
}
